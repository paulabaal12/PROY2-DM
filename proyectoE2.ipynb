{
 "cells": [
  {
   "cell_type": "markdown",
   "metadata": {},
   "source": [
    "### **Importar las librerías a utilizar**"
   ]
  },
  {
   "cell_type": "code",
   "execution_count": null,
   "metadata": {},
   "outputs": [],
   "source": [
    "import pandas as pd\n",
    "import numpy as np\n",
    "import matplotlib.pyplot as plt\n",
    "import seaborn as sns\n",
    "from scipy import stats\n",
    "from sklearn.preprocessing import StandardScaler\n",
    "from sklearn.decomposition import PCA\n",
    "from sklearn.cluster import KMeans\n",
    "from sklearn.linear_model import LinearRegression\n",
    "from sklearn.feature_selection import RFE\n",
    "from sklearn.model_selection import train_test_split\n",
    "from sklearn.preprocessing import LabelEncoder\n",
    "from sklearn.metrics import r2_score\n",
    "from sklearn.metrics import mean_absolute_error\n",
    "from statsmodels.stats.outliers_influence import variance_inflation_factor\n",
    "from sklearn.linear_model import Ridge\n",
    "import pickle\n"
   ]
  },
  {
   "cell_type": "markdown",
   "metadata": {},
   "source": [
    "### **Importar los datos de la parte anterior**"
   ]
  },
  {
   "cell_type": "code",
   "execution_count": null,
   "metadata": {},
   "outputs": [
    {
     "name": "stdout",
     "output_type": "stream",
     "text": [
      "        Id  MSSubClass  LotFrontage  LotArea  Neighborhood  Condition1  \\\n",
      "87      88         160         40.0     3951      0.058904    0.863014   \n",
      "1457  1458          70         66.0     9042      0.034932    0.863014   \n",
      "1000  1001          20         74.0    10206      0.068493    0.863014   \n",
      "1441  1442         120         69.0     4426      0.102740    0.863014   \n",
      "927    928          60         69.0     9900      0.050000    0.055479   \n",
      "\n",
      "      Condition2  OverallQual  OverallCond  YearBuilt  ...  BsmtFinType2_None  \\\n",
      "87      0.989726            6            5       2009  ...              False   \n",
      "1457    0.989726            7            9       1941  ...              False   \n",
      "1000    0.989726            3            3       1952  ...               True   \n",
      "1441    0.989726            6            5       2004  ...              False   \n",
      "927     0.989726            7            5       1968  ...              False   \n",
      "\n",
      "      BsmtFinType2_Rec  BsmtFinType2_Unf  GarageType_Attchd  \\\n",
      "87               False              True              False   \n",
      "1457             False              True               True   \n",
      "1000             False             False              False   \n",
      "1441             False              True               True   \n",
      "927              False              True               True   \n",
      "\n",
      "      GarageType_Basment  GarageType_BuiltIn  GarageType_CarPort  \\\n",
      "87                 False               False               False   \n",
      "1457               False               False               False   \n",
      "1000               False               False               False   \n",
      "1441               False               False               False   \n",
      "927                False               False               False   \n",
      "\n",
      "      GarageType_Detchd  GarageType_None  Cluster  \n",
      "87                 True            False        2  \n",
      "1457              False            False        1  \n",
      "1000               True            False        0  \n",
      "1441              False            False        0  \n",
      "927               False            False        2  \n",
      "\n",
      "[5 rows x 147 columns]         Id  MSSubClass  LotFrontage  LotArea  Neighborhood  Condition1  \\\n",
      "1346  1347          20         69.0    20781      0.050000    0.013014   \n",
      "1218  1219          50         52.0     6240      0.039726    0.863014   \n",
      "397    398          60         69.0     7590      0.154110    0.013014   \n",
      "480    481          20         98.0    16033      0.052740    0.863014   \n",
      "550    551         120         53.0     4043      0.006164    0.863014   \n",
      "\n",
      "      Condition2  OverallQual  OverallCond  YearBuilt  ...  BsmtFinType2_None  \\\n",
      "1346    0.989726            7            7       1968  ...              False   \n",
      "1218    0.989726            4            5       1947  ...               True   \n",
      "397     0.989726            5            5       1962  ...              False   \n",
      "480     0.989726            9            5       2004  ...              False   \n",
      "550     0.989726            6            6       1977  ...              False   \n",
      "\n",
      "      BsmtFinType2_Rec  BsmtFinType2_Unf  GarageType_Attchd  \\\n",
      "1346              True             False               True   \n",
      "1218             False             False              False   \n",
      "397              False              True               True   \n",
      "480              False              True               True   \n",
      "550              False              True               True   \n",
      "\n",
      "      GarageType_Basment  GarageType_BuiltIn  GarageType_CarPort  \\\n",
      "1346               False               False               False   \n",
      "1218               False               False               False   \n",
      "397                False               False               False   \n",
      "480                False               False               False   \n",
      "550                False               False               False   \n",
      "\n",
      "      GarageType_Detchd  GarageType_None  Cluster  \n",
      "1346              False            False        1  \n",
      "1218              False             True        0  \n",
      "397               False            False        2  \n",
      "480               False            False        1  \n",
      "550               False            False        0  \n",
      "\n",
      "[5 rows x 147 columns] 87      164500\n",
      "1457    266500\n",
      "1000     82000\n",
      "1441    149300\n",
      "927     176000\n",
      "Name: SalePrice, dtype: int64 1346    262500\n",
      "1218     80500\n",
      "397     169500\n",
      "480     326000\n",
      "550     140000\n",
      "Name: SalePrice, dtype: int64\n"
     ]
    }
   ],
   "source": [
    "with open(\"data.pkl\", \"rb\") as f:\n",
    "    X_train, X_test, y_train, y_test = pickle.load(f)\n",
    "\n",
    "print(X_train.head(), X_test.head(), y_train.head(), y_test.head())"
   ]
  }
 ],
 "metadata": {
  "kernelspec": {
   "display_name": "Python 3",
   "language": "python",
   "name": "python3"
  },
  "language_info": {
   "codemirror_mode": {
    "name": "ipython",
    "version": 3
   },
   "file_extension": ".py",
   "mimetype": "text/x-python",
   "name": "python",
   "nbconvert_exporter": "python",
   "pygments_lexer": "ipython3",
   "version": "3.13.1"
  }
 },
 "nbformat": 4,
 "nbformat_minor": 2
}
