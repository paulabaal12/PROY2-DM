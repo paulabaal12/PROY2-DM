{
 "cells": [
  {
   "cell_type": "markdown",
   "metadata": {},
   "source": [
    "# **Proyecto 2** | Naive Bayes"
   ]
  },
  {
   "cell_type": "markdown",
   "metadata": {},
   "source": [
    "## Link del Repositorio\n",
    "\n",
    "* https://github.com/paulabaal12/PROY2-DM"
   ]
  },
  {
   "cell_type": "markdown",
   "metadata": {},
   "source": [
    "## Integrantes del equipo\n",
    "- [Mónica Salvatierra - 22249](https://github.com/alee2602)\n",
    "- [Paula Barillas - 22764](https://github.com/paulabaal12)\n",
    "- [Derek Arreaga - 22537](https://github.com/FabianKel) \n",
    "- [Juan Pablo Solís - 22102](https://github.com/JPS4321)"
   ]
  },
  {
   "cell_type": "markdown",
   "metadata": {},
   "source": [
    "### **Importar las librerías a utilizar**"
   ]
  },
  {
   "cell_type": "code",
   "execution_count": 23,
   "metadata": {},
   "outputs": [],
   "source": [
    "import pickle\n",
    "import numpy as np\n",
    "import matplotlib.pyplot as plt\n",
    "import seaborn as sns\n",
    "import pandas as pd\n",
    "from sklearn.naive_bayes import GaussianNB\n",
    "from sklearn.metrics import mean_absolute_error, mean_squared_error, r2_score, accuracy_score\n",
    "import time\n",
    "from sklearn.metrics import classification_report, confusion_matrix\n",
    "from sklearn.model_selection import train_test_split"
   ]
  },
  {
   "cell_type": "markdown",
   "metadata": {},
   "source": [
    "### **Importar los datos de la entrega anterior**"
   ]
  },
  {
   "cell_type": "code",
   "execution_count": 24,
   "metadata": {},
   "outputs": [
    {
     "name": "stdout",
     "output_type": "stream",
     "text": [
      "        Id  MSSubClass  LotFrontage  LotArea  Neighborhood  Condition1  \\\n",
      "87      88         160         40.0     3951      0.058904    0.863014   \n",
      "1457  1458          70         66.0     9042      0.034932    0.863014   \n",
      "1000  1001          20         74.0    10206      0.068493    0.863014   \n",
      "1441  1442         120         69.0     4426      0.102740    0.863014   \n",
      "927    928          60         69.0     9900      0.050000    0.055479   \n",
      "\n",
      "      Condition2  OverallQual  OverallCond  YearBuilt  ...  BsmtFinType2_Rec  \\\n",
      "87      0.989726            6            5       2009  ...             False   \n",
      "1457    0.989726            7            9       1941  ...             False   \n",
      "1000    0.989726            3            3       1952  ...             False   \n",
      "1441    0.989726            6            5       2004  ...             False   \n",
      "927     0.989726            7            5       1968  ...             False   \n",
      "\n",
      "      BsmtFinType2_Unf  GarageType_Attchd  GarageType_Basment  \\\n",
      "87                True              False               False   \n",
      "1457              True               True               False   \n",
      "1000             False              False               False   \n",
      "1441              True               True               False   \n",
      "927               True               True               False   \n",
      "\n",
      "      GarageType_BuiltIn  GarageType_CarPort  GarageType_Detchd  \\\n",
      "87                 False               False               True   \n",
      "1457               False               False              False   \n",
      "1000               False               False               True   \n",
      "1441               False               False              False   \n",
      "927                False               False              False   \n",
      "\n",
      "      GarageType_None  Cluster  PriceCategory  \n",
      "87              False        2     Intermedia  \n",
      "1457            False        1           Cara  \n",
      "1000            False        0      Económica  \n",
      "1441            False        0     Intermedia  \n",
      "927             False        2     Intermedia  \n",
      "\n",
      "[5 rows x 148 columns]         Id  MSSubClass  LotFrontage  LotArea  Neighborhood  Condition1  \\\n",
      "1346  1347          20         69.0    20781      0.050000    0.013014   \n",
      "1218  1219          50         52.0     6240      0.039726    0.863014   \n",
      "397    398          60         69.0     7590      0.154110    0.013014   \n",
      "480    481          20         98.0    16033      0.052740    0.863014   \n",
      "550    551         120         53.0     4043      0.006164    0.863014   \n",
      "\n",
      "      Condition2  OverallQual  OverallCond  YearBuilt  ...  BsmtFinType2_Rec  \\\n",
      "1346    0.989726            7            7       1968  ...              True   \n",
      "1218    0.989726            4            5       1947  ...             False   \n",
      "397     0.989726            5            5       1962  ...             False   \n",
      "480     0.989726            9            5       2004  ...             False   \n",
      "550     0.989726            6            6       1977  ...             False   \n",
      "\n",
      "      BsmtFinType2_Unf  GarageType_Attchd  GarageType_Basment  \\\n",
      "1346             False               True               False   \n",
      "1218             False              False               False   \n",
      "397               True               True               False   \n",
      "480               True               True               False   \n",
      "550               True               True               False   \n",
      "\n",
      "      GarageType_BuiltIn  GarageType_CarPort  GarageType_Detchd  \\\n",
      "1346               False               False              False   \n",
      "1218               False               False              False   \n",
      "397                False               False              False   \n",
      "480                False               False              False   \n",
      "550                False               False              False   \n",
      "\n",
      "      GarageType_None  Cluster  PriceCategory  \n",
      "1346            False        1           Cara  \n",
      "1218             True        0      Económica  \n",
      "397             False        2     Intermedia  \n",
      "480             False        1           Cara  \n",
      "550             False        0     Intermedia  \n",
      "\n",
      "[5 rows x 148 columns] 87      164500\n",
      "1457    266500\n",
      "1000     82000\n",
      "1441    149300\n",
      "927     176000\n",
      "Name: SalePrice, dtype: int64 1346    262500\n",
      "1218     80500\n",
      "397     169500\n",
      "480     326000\n",
      "550     140000\n",
      "Name: SalePrice, dtype: int64\n",
      "Tamaño del conjunto de entrenamiento: 1168 filas, 148 columnas\n",
      "Tamaño del conjunto de prueba: 292 filas, 148 columnas\n"
     ]
    }
   ],
   "source": [
    "with open(\"dataE2.pkl\", \"rb\") as f:\n",
    "    X_train, X_test, y_train, y_test = pickle.load(f)\n",
    "\n",
    "print(X_train.head(), X_test.head(), y_train.head(), y_test.head())\n",
    "print(f\"Tamaño del conjunto de entrenamiento: {X_train.shape[0]} filas, {X_train.shape[1]} columnas\")\n",
    "print(f\"Tamaño del conjunto de prueba: {X_test.shape[0]} filas, {X_test.shape[1]} columnas\")\n"
   ]
  },
  {
   "cell_type": "markdown",
   "metadata": {},
   "source": [
    "### **Inciso 1: Modelo de regresión con Naïve Bayes**"
   ]
  },
  {
   "cell_type": "code",
   "execution_count": 25,
   "metadata": {},
   "outputs": [
    {
     "name": "stdout",
     "output_type": "stream",
     "text": [
      "Tipo de y_train: <class 'pandas.core.series.Series'>\n",
      "Nombre de y_train: SalePrice\n",
      "Nombre de y_test: SalePrice\n",
      " Evaluación del Modelo Naïve Bayes:\n",
      " MAE (Error Absoluto Medio): 28607.51\n",
      " MSE (Error Cuadrático Medio): 2874479167.39\n",
      " RMSE (Raíz del Error Cuadrático Medio): 53614.17\n",
      " R² (Coeficiente de determinación): 0.5965\n"
     ]
    },
    {
     "data": {
      "image/png": "[encoded data removed]",
      "text/plain": [
       "<Figure size 720x432 with 1 Axes>"
      ]
     },
     "metadata": {
      "needs_background": "light"
     },
     "output_type": "display_data"
    }
   ],
   "source": [
    "\n",
    "print(f\"Tipo de y_train: {type(y_train)}\")  \n",
    "\n",
    "\n",
    "y_train_reg = y_train  \n",
    "y_test_reg = y_test  \n",
    "\n",
    "\n",
    "print(f\"Nombre de y_train: {y_train.name}\")  \n",
    "print(f\"Nombre de y_test: {y_test.name}\")  \n",
    "\n",
    "\n",
    "X_train_reg = X_train.drop(columns=[\"Id\", \"PriceCategory\"], errors=\"ignore\")\n",
    "X_test_reg = X_test.drop(columns=[\"Id\", \"PriceCategory\"], errors=\"ignore\")\n",
    "\n",
    "\n",
    "gnb = GaussianNB()\n",
    "gnb.fit(X_train_reg, y_train_reg)\n",
    "\n",
    "\n",
    "y_pred_reg = gnb.predict(X_test_reg)\n",
    "\n",
    "\n",
    "mae = mean_absolute_error(y_test_reg, y_pred_reg)\n",
    "mse = mean_squared_error(y_test_reg, y_pred_reg)\n",
    "rmse = np.sqrt(mse)\n",
    "r2 = r2_score(y_test_reg, y_pred_reg)\n",
    "\n",
    "\n",
    "print(f\" Evaluación del Modelo Naïve Bayes:\")\n",
    "print(f\" MAE (Error Absoluto Medio): {mae:.2f}\")\n",
    "print(f\" MSE (Error Cuadrático Medio): {mse:.2f}\")\n",
    "print(f\" RMSE (Raíz del Error Cuadrático Medio): {rmse:.2f}\")\n",
    "print(f\" R² (Coeficiente de determinación): {r2:.4f}\")\n",
    "\n",
    "\n",
    "plt.figure(figsize=(10, 6))\n",
    "plt.scatter(y_test_reg, y_pred_reg, alpha=0.5, color=\"blue\")\n",
    "plt.plot([y_test_reg.min(), y_test_reg.max()], [y_test_reg.min(), y_test_reg.max()], \"--r\", linewidth=2)\n",
    "plt.xlabel(\"Valor Real de SalePrice\")\n",
    "plt.ylabel(\"Predicción de SalePrice\")\n",
    "plt.title(\"Regresión con Naïve Bayes: Predicciones vs Reales\")\n",
    "plt.show()\n"
   ]
  },
  {
   "cell_type": "markdown",
   "metadata": {},
   "source": [
    "### **Inciso 2: Analice los resultados del modelo de regresión usando Bayes Ingenuo. ¿Qué tan bien hizo las predicciones? Utilice las métricas correctas.**\n",
    "El modelo de regresión con Bayes Ingenuo mostró un rendimiento moderado, explicando el 59.65% de la variabilidad en los precios de las casas (R² = 0.5965). Sin embargo, el error absoluto medio (MAE = 28,607.51) y la raíz del error cuadrático medio (RMSE = 53,614.17) indican que las predicciones tienen una desviación considerable. Aunque el modelo funciona relativamente bien en valores bajos y medios, tiende a subestimar los precios más altos, lo que sugiere que la suposición de distribución normal en las variables no se cumple completamente. En general, Naïve Bayes no es la mejor opción para regresión, esto debido a sus fuertes suposiciones y la incapacidad de modelar adecuadamente la variabilidad en los datos al ser un modelo diseñado para clasificacion. "
   ]
  },
  {
   "cell_type": "markdown",
   "metadata": {},
   "source": [
    "### **Inciso 3: Comparación con otros modelos de regresión**"
   ]
  },
  {
   "cell_type": "code",
   "execution_count": 26,
   "metadata": {},
   "outputs": [
    {
     "data": {
      "image/png": "[encoded data removed]",
      "text/plain": [
       "<Figure size 720x216 with 1 Axes>"
      ]
     },
     "metadata": {
      "needs_background": "light"
     },
     "output_type": "display_data"
    }
   ],
   "source": [
    "\n",
    "data = {\n",
    "    \"Modelo\": [\n",
    "        \"Regresión Ridge\",\n",
    "        \"Árbol de Decisión (profundidad=10)\",\n",
    "        \"Naïve Bayes\"\n",
    "    ],\n",
    "    \"R²\": [0.7113, 0.8911, 0.5965],\n",
    "    \"MAE\": [30393.21, 19158.32, 28607.51],\n",
    "    \"RMSE\": [45350.95, 27857.66, 53614.17]\n",
    "}\n",
    "\n",
    "df_resultados = pd.DataFrame(data)\n",
    "\n",
    "# Crear una tabla de comparación de métricas\n",
    "fig, ax = plt.subplots(figsize=(10, 3))\n",
    "ax.axis('off')\n",
    "\n",
    "tabla = ax.table(\n",
    "    cellText=df_resultados.values,\n",
    "    colLabels=df_resultados.columns,\n",
    "    cellLoc='center',\n",
    "    loc='center',\n",
    "    colWidths=[0.5, 0.15, 0.15, 0.15] \n",
    ")\n",
    "\n",
    "# Estilizar la tabla\n",
    "tabla.auto_set_font_size(False)\n",
    "tabla.set_fontsize(12)\n",
    "tabla.scale(1, 2)\n",
    "\n",
    "# Estilizar encabezados\n",
    "for j in range(len(df_resultados.columns)):\n",
    "    tabla[(0, j)].set_facecolor('#4472C4')\n",
    "    tabla[(0, j)].set_text_props(color='white', fontweight='bold')\n",
    "\n",
    "plt.title(\"Comparación de Modelos de Regresión\", fontsize=14, pad=10)\n",
    "plt.tight_layout()\n",
    "plt.show()\n"
   ]
  },
  {
   "cell_type": "markdown",
   "metadata": {},
   "source": [
    "Al comparar el desempeño de los tres modelos de regresión evaluados (Regresión Ridge, Árbol de Decisión y Naïve Bayes) se observa que el Árbol de Decisión con profundidad 10 es el que presenta el mejor rendimiento general. Este modelo obtuvo un coeficiente de determinación R² de **0.8911**, lo que indica que es capaz de explicar aproximadamente el **89.11%** de la variabilidad en los precios de las casas. Además, presenta los menores errores de predicción, tanto en MAE (19,158.32) como en RMSE (27,857.66), lo cual refleja una mayor precisión y menor dispersión entre los valores reales y los predichos.\n",
    "\n",
    "En segundo lugar, se encuentra la Regresión Ridge, que logra un R² de **0.7113**, bastante aceptable, pero con errores más elevados (MAE de 30,393.21 y RMSE de 45,350.95) en comparación con el árbol. Aunque Ridge mejora el rendimiento respecto a una regresión lineal tradicional al regularizar los coeficientes, no logra capturar completamente la complejidad del problema.\n",
    "\n",
    "Por último, el modelo de Naïve Bayes mostró el desempeño más limitado, con un R² de **0.5965** y el mayor RMSE (53,614.17), lo cual evidencia una menor capacidad de generalización y una tendencia a subestimar los valores altos. Esto era de esperarse, ya que Naïve Bayes está diseñado originalmente para tareas de clasificación, y sus supuestos de independencia fuerte entre variables no se ajustan del todo al problema de regresión.\n",
    "\n",
    "En conclusión, el **Árbol de Decisión** fue el modelo más efectivo para predecir el precio de las casas, mostrando tanto una mayor capacidad explicativa como una menor magnitud de error en sus predicciones."
   ]
  },
  {
   "cell_type": "markdown",
   "metadata": {},
   "source": [
    "#### **Entrenar el modelo implementando la validación cruzada**"
   ]
  },
  {
   "cell_type": "code",
   "execution_count": 27,
   "metadata": {},
   "outputs": [
    {
     "name": "stdout",
     "output_type": "stream",
     "text": [
      "\n",
      "Validación cruzada para el modelo de regresión:\n"
     ]
    },
    {
     "name": "stderr",
     "output_type": "stream",
     "text": [
      "C:\\Users\\Ale\\AppData\\Local\\Packages\\PythonSoftwareFoundation.Python.3.10_qbz5n2kfra8p0\\LocalCache\\local-packages\\Python310\\site-packages\\sklearn\\model_selection\\_split.py:805: UserWarning: The least populated class in y has only 1 members, which is less than n_splits=5.\n",
      "  warnings.warn(\n"
     ]
    },
    {
     "name": "stdout",
     "output_type": "stream",
     "text": [
      "Puntuaciones R² de validación cruzada: [0.56616179 0.59864097 0.64405593 0.65019395 0.56710895]\n",
      "Media de R² en validación cruzada: 0.6052\n",
      "Desviación estándar de R² en validación cruzada: 0.0362\n"
     ]
    }
   ],
   "source": [
    "from sklearn.model_selection import cross_val_score\n",
    "\n",
    "\n",
    "print(\"\\nValidación cruzada para el modelo de regresión:\")\n",
    "cv_scores = cross_val_score(gnb, X_train_reg, y_train_reg, cv=5, scoring='r2')\n",
    "print(f\"Puntuaciones R² de validación cruzada: {cv_scores}\")\n",
    "print(f\"Media de R² en validación cruzada: {cv_scores.mean():.4f}\")\n",
    "print(f\"Desviación estándar de R² en validación cruzada: {cv_scores.std():.4f}\")"
   ]
  },
  {
   "cell_type": "markdown",
   "metadata": {},
   "source": [
    "#### **Inciso 4: Modelo de clasificación con Naïve Bayes**"
   ]
  },
  {
   "cell_type": "code",
   "execution_count": null,
   "metadata": {},
   "outputs": [
    {
     "name": "stdout",
     "output_type": "stream",
     "text": [
      "Distribución de clases en conjunto de entrenamiento:\n",
      "PriceCategory\n",
      "Cara          392\n",
      "Intermedia    390\n",
      "Económica     386\n",
      "Name: count, dtype: int64\n",
      "\n",
      "Distribución de clases en conjunto de prueba:\n",
      "PriceCategory\n",
      "Cara          105\n",
      "Económica      99\n",
      "Intermedia     88\n",
      "Name: count, dtype: int64\n",
      "Tiempo de entrenamiento (clasificación): 0.01 segundos\n",
      "Tiempo de predicción (clasificación): 0.00 segundos\n",
      "\n",
      "Precisión del modelo: 0.8116\n",
      "\n",
      "Matriz de confusión:\n",
      "[[92  0 13]\n",
      " [ 0 94  5]\n",
      " [22 15 51]]\n",
      "\n",
      "Informe de clasificación:\n",
      "              precision    recall  f1-score   support\n",
      "\n",
      "        Cara       0.81      0.88      0.84       105\n",
      "   Económica       0.86      0.95      0.90        99\n",
      "  Intermedia       0.74      0.58      0.65        88\n",
      "\n",
      "    accuracy                           0.81       292\n",
      "   macro avg       0.80      0.80      0.80       292\n",
      "weighted avg       0.81      0.81      0.80       292\n",
      "\n"
     ]
    }
   ],
   "source": [
    "# Preparar datos para clasificación\n",
    "\n",
    "X_train_class = X_train.drop(columns=[\"Id\", \"PriceCategory\"], errors=\"ignore\")\n",
    "X_test_class = X_test.drop(columns=[\"Id\", \"PriceCategory\"], errors=\"ignore\")\n",
    "y_train_class = X_train[\"PriceCategory\"] if \"PriceCategory\" in X_train.columns else y_train_class\n",
    "y_test_class = X_test[\"PriceCategory\"] if \"PriceCategory\" in X_test.columns else y_test_class\n",
    "\n",
    "# Verificar distribución de clases\n",
    "print(\"Distribución de clases en conjunto de entrenamiento:\")\n",
    "print(y_train_class.value_counts())\n",
    "print(\"\\nDistribución de clases en conjunto de prueba:\")\n",
    "print(y_test_class.value_counts())\n",
    "\n",
    "# Entrenar modelo de clasificación\n",
    "start_time = time.time()\n",
    "gnb_class = GaussianNB()\n",
    "gnb_class.fit(X_train_class, y_train_class)\n",
    "train_time_class = time.time() - start_time\n",
    "print(f\"Tiempo de entrenamiento (clasificación): {train_time_class:.2f} segundos\")\n",
    "\n",
    "# Predicciones\n",
    "start_time = time.time()\n",
    "y_pred_class = gnb_class.predict(X_test_class)\n",
    "predict_time_class = time.time() - start_time\n",
    "print(f\"Tiempo de predicción (clasificación): {predict_time_class:.2f} segundos\")\n",
    "\n",
    "# Evaluación del modelo de clasificación\n",
    "accuracy = accuracy_score(y_test_class, y_pred_class)\n",
    "conf_matrix = confusion_matrix(y_test_class, y_pred_class)\n",
    "class_report = classification_report(y_test_class, y_pred_class)\n",
    "\n",
    "print(f\"\\nExactitud del modelo: {accuracy:.4f}\")\n",
    "print(\"\\nMatriz de confusión:\")\n",
    "print(conf_matrix)\n",
    "print(\"\\nInforme de clasificación:\")\n",
    "print(class_report)"
   ]
  },
  {
   "cell_type": "markdown",
   "metadata": {},
   "source": [
    "#### **Inciso 5: Utilice los modelos con el conjunto de prueba y determine la eficiencia de los algoritmos para predecir y clasificar**"
   ]
  },
  {
   "cell_type": "code",
   "execution_count": null,
   "metadata": {},
   "outputs": [
    {
     "name": "stdout",
     "output_type": "stream",
     "text": [
      "\n",
      "Eficiencia del modelo de regresión Naïve Bayes:\n",
      "MAE: 28607.51\n",
      "RMSE: 53614.17\n",
      "R²: 0.5965\n",
      "\n",
      "Eficiencia del modelo de clasificación Naïve Bayes:\n",
      "Precisión global: 0.8116\n",
      "Reporte de clasificación:\n",
      "              precision    recall  f1-score   support\n",
      "\n",
      "        Cara       0.81      0.88      0.84       105\n",
      "   Económica       0.86      0.95      0.90        99\n",
      "  Intermedia       0.74      0.58      0.65        88\n",
      "\n",
      "    accuracy                           0.81       292\n",
      "   macro avg       0.80      0.80      0.80       292\n",
      "weighted avg       0.81      0.81      0.80       292\n",
      "\n"
     ]
    }
   ],
   "source": [
    "import numpy as np\n",
    "from sklearn.metrics import mean_absolute_error, mean_squared_error, r2_score, accuracy_score, classification_report\n",
    "\n",
    "# Eficiencia del modelo de regresión\n",
    "print(\"\\nEficiencia del modelo de regresión Naïve Bayes:\")\n",
    "print(f\"MAE: {mean_absolute_error(y_test, y_pred_reg):.2f}\")\n",
    "print(f\"RMSE: {np.sqrt(mean_squared_error(y_test, y_pred_reg)):.2f}\")\n",
    "print(f\"R²: {r2_score(y_test, y_pred_reg):.4f}\")\n",
    "\n",
    "# Eficiencia del modelo de clasificación\n",
    "print(\"\\nEficiencia del modelo de clasificación Naïve Bayes:\")\n",
    "print(f\"Exactitud global: {accuracy_score(y_test_class, y_pred_class):.4f}\")\n",
    "print(\"Reporte de clasificación:\")\n",
    "print(classification_report(y_test_class, y_pred_class))\n",
    "\n"
   ]
  },
  {
   "cell_type": "markdown",
   "metadata": {},
   "source": [
    "#### **Análisis de Resultados**\n",
    "- **Modelo de regresión Naïve Bayes**\n",
    "    - El modelo de regresión con Naïve Bayes presenta un MAE de **28,607.51**, indicando que las predicciones se desvían en promedio **$28,607** del valor real de SalePrice.\n",
    "    - El RMSE de **53,614.17** sugiere errores más grandes en algunas predicciones\n",
    "    - Mientras que el **R²** de **0.5965** muestra que explica el **59.65%** de la varianza. Esto refleja un desempeño moderado, pero limitado, ya que Naïve Bayes no está optimizado para regresión continua.\n",
    "\n",
    "- **Modelo de clasificación Naïve Bayes**\n",
    "    El modelo de clasificación logra una precisión global de 0.8116 (**81.16%**), clasificando  correctamente la mayoría de las instancias.\n",
    "    - ```Económica``` : Precisión de 0.86 y recall de 0.95 (**F1-score 0.90**), excelente para casas baratas.\n",
    "    - ```Cara``` : Precisión de 0.81 y recall de 0.88 (**F1-score 0.84**), sólido en casas caras.\n",
    "    - ```Intermedia``` : Precisión de 0.74 y recall de 0.58 (**F1-score 0.65**), con menor desempeño, especialmente en recall.\n",
    "\n",
    "El modelo de **clasificación** (**81.16% de precisión**) es más eficiente para su tarea que el de **regresión** (**R² de 0.5965**), alineándose mejor con las fortalezas de Naïve Bayes. Mientras el primero destaca en categorías extremas, el segundo muestra un ajuste aceptable pero no óptimo para valores continuos."
   ]
  },
  {
   "cell_type": "markdown",
   "metadata": {},
   "source": [
    "#### **Inciso 6: Haga un análisis de la eficiencia del modelo de clasificación usando una matriz de confusión**"
   ]
  },
  {
   "cell_type": "code",
   "execution_count": 30,
   "metadata": {},
   "outputs": [
    {
     "data": {
      "image/png": "[encoded data removed]",
      "text/plain": [
       "<Figure size 576x432 with 2 Axes>"
      ]
     },
     "metadata": {
      "needs_background": "light"
     },
     "output_type": "display_data"
    },
    {
     "name": "stdout",
     "output_type": "stream",
     "text": [
      "\n",
      "Análisis de errores:\n",
      "Total de predicciones: 292\n",
      "Predicciones correctas: 237\n",
      "Predicciones incorrectas: 55\n"
     ]
    }
   ],
   "source": [
    "# Visualización de la matriz de confusión\n",
    "plt.figure(figsize=(8, 6))\n",
    "sns.heatmap(conf_matrix, annot=True, fmt='d', cmap='Blues', \n",
    "           xticklabels=gnb_class.classes_, \n",
    "           yticklabels=gnb_class.classes_)\n",
    "plt.xlabel('Predicción')\n",
    "plt.ylabel('Valor Real')\n",
    "plt.title('Matriz de Confusión - Naive Bayes')\n",
    "plt.show()\n",
    "\n",
    "error_analysis = pd.DataFrame({\n",
    "    'Real': y_test_class,\n",
    "    'Predicción': y_pred_class\n",
    "})\n",
    "error_analysis['Correcto'] = error_analysis['Real'] == error_analysis['Predicción']\n",
    "print(\"\\nAnálisis de errores:\")\n",
    "print(f\"Total de predicciones: {len(error_analysis)}\")\n",
    "print(f\"Predicciones correctas: {error_analysis['Correcto'].sum()}\")\n",
    "print(f\"Predicciones incorrectas: {len(error_analysis) - error_analysis['Correcto'].sum()}\")"
   ]
  },
  {
   "cell_type": "markdown",
   "metadata": {},
   "source": [
    "#### Análisis de resultados\n",
    "**Interpretación**\n",
    "- Dónde se equivocó más: En ```Intermedia```, con 37 falsos negativos, sugiriendo que muchas casas intermedias se clasifican como ```Cara``` o ```Económica```.\n",
    "- Dónde se equivocó menos: En ```Económica```, con solo 5 errores y sin falsos positivos, mostrando alta confiabilidad.\n",
    "- Importancia de los errores: Los errores en ```Intermedia``` pueden ser menos críticos si el foco está en identificar casas extremas (```Cara``` o ```Económica```), pero afectan la precisión general. La validación cruzada (**media 0.7791**) confirma un desempeño sólido y consistente, aunque ligeramente inferior al **81.16%** en el conjunto de prueba, indicando buena generalización.\n",
    "\n",
    "**Conclusión**\n",
    "\n",
    "El modelo clasifica bien las categorías extremas, pero tiene dificultades con ```Intermedia```. Los errores son manejables y el modelo es estable, según la baja desviación estándar (**0.0193**)."
   ]
  },
  {
   "cell_type": "markdown",
   "metadata": {},
   "source": [
    "#### **Inciso 7: ¿Cree que pueda estar sobreajustado?**\n",
    "- El modelo de clasificación  no muestra señales claras de sobreajuste. Al evaluar el rendimiento en el conjunto de entrenamiento frente al de prueba, en este caso el modelo obtiene una precisión del 81.16% en el conjunto de prueba, mientras que en la validación cruzada, la precisión promedio es de 77.91%, con una baja desviación estándar (0.0193). Esta diferencia no es excesiva, lo que sugiere que el modelo generaliza bien y no está aprendiendo de forma excesiva los datos de entrenamiento"
   ]
  },
  {
   "cell_type": "markdown",
   "metadata": {},
   "source": [
    "#### **Inciso 8: Haga un modelo usando validación cruzada, compare los resultados de este con el modelo anterior. ¿Cuál funcionó mejor?**"
   ]
  },
  {
   "cell_type": "code",
   "execution_count": 33,
   "metadata": {},
   "outputs": [
    {
     "name": "stdout",
     "output_type": "stream",
     "text": [
      "Resultados de la validación cruzada:\n",
      "Exactitud promedio: 0.7919\n",
      "Desviación estándar: 0.0334\n"
     ]
    }
   ],
   "source": [
    "gnb = GaussianNB()\n",
    "\n",
    "# Validación cruzada\n",
    "cv_scores = cross_val_score(gnb, X_train_class, y_train_class, cv=10, scoring='accuracy')\n",
    "\n",
    "print(\"Resultados de la validación cruzada:\")\n",
    "print(f\"Exactitud promedio: {cv_scores.mean():.4f}\")\n",
    "print(f\"Desviación estándar: {cv_scores.std():.4f}\")"
   ]
  },
  {
   "cell_type": "markdown",
   "metadata": {},
   "source": [
    "#### **Resultados**"
   ]
  },
  {
   "cell_type": "markdown",
   "metadata": {},
   "source": [
    "Al aplicar validación cruzada al modelo de clasificación con Naïve Bayes, se obtuvo una exactitud promedio de 0.7919 con una desviación estándar baja de 0.0334, lo cual indica que el modelo es estable y consistente entre los distintos subconjuntos de entrenamiento. Por otro lado, el modelo sin validación cruzada alcanzó una exactitud de 0.8116 en el conjunto de prueba. Aunque esta cifra es levemente mayor, podría estar ligeramente influenciada por la partición específica de los datos.\n",
    "\n",
    "Ambos modelos tienen un rendimiento muy similar, pero el de validación cruzada da mayor confianza sobre su estabilidad, por lo que podría considerarse una opción más robusta. Además, reafirma que Naïve Bayes logra buenos resultados en tareas de clasificación con clases balanceadas."
   ]
  }
 ],
 "metadata": {
  "kernelspec": {
   "display_name": "Python 3",
   "language": "python",
   "name": "python3"
  },
  "language_info": {
   "codemirror_mode": {
    "name": "ipython",
    "version": 3
   },
   "file_extension": ".py",
   "mimetype": "text/x-python",
   "name": "python",
   "nbconvert_exporter": "python",
   "pygments_lexer": "ipython3",
   "version": "3.12.1"
  }
 },
 "nbformat": 4,
 "nbformat_minor": 2
}
